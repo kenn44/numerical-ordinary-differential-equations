{
 "cells": [
  {
   "cell_type": "markdown",
   "metadata": {},
   "source": [
    "# Résolution numérique des équations différentielles ordinaires\n",
    "## Méthode d’Euler"
   ]
  },
  {
   "cell_type": "code",
   "execution_count": 1,
   "metadata": {},
   "outputs": [],
   "source": [
    "def euler (f, y0, a, b, h, approx):\n",
    "    N = (b-a)/h #nombre de pas\n",
    "    N = int(N)\n",
    "    t = a\n",
    "    y = y0\n",
    "    sol = []\n",
    "    sol.append(y0)    \n",
    "    err = []\n",
    "    err.append(y0)\n",
    "    for i in range(0,N):\n",
    "        t = a+i*h\n",
    "        y = y + h*f(t,y)\n",
    "        sol.append(y)\n",
    "        err.append(abs(y-approx[i+1]))\n",
    "    return sol, err"
   ]
  },
  {
   "cell_type": "markdown",
   "metadata": {},
   "source": [
    "## Exemple\n",
    "$$\n",
    "\\left\\{\n",
    "\\begin{array}{rl}\n",
    "y' &=& y − t^2 + 1  0\\leq t \\leq 2 \\\\\n",
    "y(0) &=& 0.5\n",
    "\\end{array}\n",
    "\\right.\n",
    "$$"
   ]
  },
  {
   "cell_type": "code",
   "execution_count": 2,
   "metadata": {},
   "outputs": [
    {
     "name": "stdout",
     "output_type": "stream",
     "text": [
      "Vecteur solution: [0, 0.2, 0.4388888888888889, 0.721242756361804, 1.0520380316573712, 1.4372511475238394]\n",
      "Vecteur erreur: [0, 0.0, 0.00011111111111111738, 0.00015724363819602516, 3.803165737115144e-05, 0.0002511475238393679]\n"
     ]
    }
   ],
   "source": [
    "def ex1(t,y):\n",
    "    return 1+y/t+(y/t)**2\n",
    "\n",
    "approx1 = [0, 0.2, 0.439, 0.7214, 1.052, 1.437] #calcule au cours\n",
    "\n",
    "sol1, err1 = euler(ex1, 0, 1, 2, 0.2, approx1)\n",
    "print(\"Vecteur solution: \" + str(sol1))\n",
    "print(\"Vecteur erreur: \" + str(err1))"
   ]
  },
  {
   "cell_type": "markdown",
   "metadata": {},
   "source": [
    "## Error vector plot"
   ]
  },
  {
   "cell_type": "code",
   "execution_count": 4,
   "metadata": {},
   "outputs": [
    {
     "data": {
      "image/png": "[encoded data removed]",
      "text/plain": [
       "<Figure size 432x288 with 1 Axes>"
      ]
     },
     "metadata": {},
     "output_type": "display_data"
    }
   ],
   "source": [
    "from matplotlib.pylab import *\n",
    "\n",
    "x = linspace(1, 2, 6)\n",
    "y = err1\n",
    "plot(x,y)\n",
    "xlabel('$t_i$')\n",
    "ylabel('$err_i$')\n",
    "show()"
   ]
  },
  {
   "cell_type": "code",
   "execution_count": null,
   "metadata": {},
   "outputs": [],
   "source": []
  }
 ],
 "metadata": {
  "kernelspec": {
   "display_name": "Python 3",
   "language": "python",
   "name": "python3"
  },
  "language_info": {
   "codemirror_mode": {
    "name": "ipython",
    "version": 3
   },
   "file_extension": ".py",
   "mimetype": "text/x-python",
   "name": "python",
   "nbconvert_exporter": "python",
   "pygments_lexer": "ipython3",
   "version": "3.5.2"
  }
 },
 "nbformat": 4,
 "nbformat_minor": 2
}
